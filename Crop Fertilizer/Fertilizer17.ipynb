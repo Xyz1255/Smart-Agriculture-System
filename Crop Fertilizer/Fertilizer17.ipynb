{
 "cells": [
  {
   "cell_type": "code",
   "execution_count": 1,
   "id": "f8386b59-303e-4ab6-8682-c0e4658f7ecf",
   "metadata": {},
   "outputs": [],
   "source": [
    "#importing libraries\n",
    "import pandas as pd\n",
    "import seaborn as sns\n",
    "import matplotlib.pyplot as plt\n",
    "import numpy as np\n",
    "import warnings\n",
    "warnings.filterwarnings('ignore')"
   ]
  },
  {
   "cell_type": "code",
   "execution_count": 3,
   "id": "6d8b0433-5192-4b34-8687-914b11a0c951",
   "metadata": {},
   "outputs": [
    {
     "data": {
      "text/html": [
       "<div>\n",
       "<style scoped>\n",
       "    .dataframe tbody tr th:only-of-type {\n",
       "        vertical-align: middle;\n",
       "    }\n",
       "\n",
       "    .dataframe tbody tr th {\n",
       "        vertical-align: top;\n",
       "    }\n",
       "\n",
       "    .dataframe thead th {\n",
       "        text-align: right;\n",
       "    }\n",
       "</style>\n",
       "<table border=\"1\" class=\"dataframe\">\n",
       "  <thead>\n",
       "    <tr style=\"text-align: right;\">\n",
       "      <th></th>\n",
       "      <th>Temparature</th>\n",
       "      <th>Humidity</th>\n",
       "      <th>Moisture</th>\n",
       "      <th>Soil_Type</th>\n",
       "      <th>Crop_Type</th>\n",
       "      <th>Nitrogen</th>\n",
       "      <th>Potassium</th>\n",
       "      <th>Phosphorous</th>\n",
       "      <th>Fertilizer</th>\n",
       "    </tr>\n",
       "  </thead>\n",
       "  <tbody>\n",
       "    <tr>\n",
       "      <th>0</th>\n",
       "      <td>20</td>\n",
       "      <td>83</td>\n",
       "      <td>26</td>\n",
       "      <td>Clayey</td>\n",
       "      <td>rice</td>\n",
       "      <td>90</td>\n",
       "      <td>49</td>\n",
       "      <td>36</td>\n",
       "      <td>Urea</td>\n",
       "    </tr>\n",
       "    <tr>\n",
       "      <th>1</th>\n",
       "      <td>25</td>\n",
       "      <td>84</td>\n",
       "      <td>32</td>\n",
       "      <td>Loamy</td>\n",
       "      <td>rice</td>\n",
       "      <td>66</td>\n",
       "      <td>59</td>\n",
       "      <td>36</td>\n",
       "      <td>Urea</td>\n",
       "    </tr>\n",
       "    <tr>\n",
       "      <th>2</th>\n",
       "      <td>33</td>\n",
       "      <td>64</td>\n",
       "      <td>50</td>\n",
       "      <td>Loamy</td>\n",
       "      <td>Wheat</td>\n",
       "      <td>41</td>\n",
       "      <td>0</td>\n",
       "      <td>0</td>\n",
       "      <td>Urea</td>\n",
       "    </tr>\n",
       "    <tr>\n",
       "      <th>3</th>\n",
       "      <td>34</td>\n",
       "      <td>65</td>\n",
       "      <td>54</td>\n",
       "      <td>Loamy</td>\n",
       "      <td>Wheat</td>\n",
       "      <td>38</td>\n",
       "      <td>0</td>\n",
       "      <td>0</td>\n",
       "      <td>Urea</td>\n",
       "    </tr>\n",
       "    <tr>\n",
       "      <th>4</th>\n",
       "      <td>38</td>\n",
       "      <td>72</td>\n",
       "      <td>51</td>\n",
       "      <td>Loamy</td>\n",
       "      <td>Wheat</td>\n",
       "      <td>39</td>\n",
       "      <td>0</td>\n",
       "      <td>0</td>\n",
       "      <td>Urea</td>\n",
       "    </tr>\n",
       "  </tbody>\n",
       "</table>\n",
       "</div>"
      ],
      "text/plain": [
       "   Temparature  Humidity  Moisture Soil_Type Crop_Type  Nitrogen  Potassium  \\\n",
       "0           20        83        26    Clayey      rice        90         49   \n",
       "1           25        84        32     Loamy      rice        66         59   \n",
       "2           33        64        50     Loamy     Wheat        41          0   \n",
       "3           34        65        54     Loamy     Wheat        38          0   \n",
       "4           38        72        51     Loamy     Wheat        39          0   \n",
       "\n",
       "   Phosphorous Fertilizer  \n",
       "0           36       Urea  \n",
       "1           36       Urea  \n",
       "2            0       Urea  \n",
       "3            0       Urea  \n",
       "4            0       Urea  "
      ]
     },
     "execution_count": 3,
     "metadata": {},
     "output_type": "execute_result"
    }
   ],
   "source": [
    "#importing the dataset\n",
    "data = pd.read_csv('f2.csv')\n",
    "data.head()"
   ]
  },
  {
   "cell_type": "code",
   "execution_count": 5,
   "id": "4b77e00d-3200-402b-bf48-11544f07ff9f",
   "metadata": {},
   "outputs": [
    {
     "name": "stdout",
     "output_type": "stream",
     "text": [
      "<class 'pandas.core.frame.DataFrame'>\n",
      "RangeIndex: 552 entries, 0 to 551\n",
      "Data columns (total 9 columns):\n",
      " #   Column       Non-Null Count  Dtype \n",
      "---  ------       --------------  ----- \n",
      " 0   Temparature  552 non-null    int64 \n",
      " 1   Humidity     552 non-null    int64 \n",
      " 2   Moisture     552 non-null    int64 \n",
      " 3   Soil_Type    552 non-null    object\n",
      " 4   Crop_Type    552 non-null    object\n",
      " 5   Nitrogen     552 non-null    int64 \n",
      " 6   Potassium    552 non-null    int64 \n",
      " 7   Phosphorous  552 non-null    int64 \n",
      " 8   Fertilizer   552 non-null    object\n",
      "dtypes: int64(6), object(3)\n",
      "memory usage: 38.9+ KB\n"
     ]
    }
   ],
   "source": [
    "data.info()"
   ]
  },
  {
   "cell_type": "code",
   "execution_count": 7,
   "id": "a6991bab-2226-4d0a-8579-6bac3f2846c9",
   "metadata": {},
   "outputs": [
    {
     "data": {
      "text/plain": [
       "Temparature    21\n",
       "Humidity       34\n",
       "Moisture       41\n",
       "Soil_Type       5\n",
       "Crop_Type      17\n",
       "Nitrogen       47\n",
       "Potassium      31\n",
       "Phosphorous    36\n",
       "Fertilizer     14\n",
       "dtype: int64"
      ]
     },
     "execution_count": 7,
     "metadata": {},
     "output_type": "execute_result"
    }
   ],
   "source": [
    "#checking unique values\n",
    "data.nunique()"
   ]
  },
  {
   "cell_type": "code",
   "execution_count": 9,
   "id": "5952afcd-5440-43e5-b6b4-461a794cddce",
   "metadata": {},
   "outputs": [
    {
     "data": {
      "text/plain": [
       "Temparature    0\n",
       "Humidity       0\n",
       "Moisture       0\n",
       "Soil_Type      0\n",
       "Crop_Type      0\n",
       "Nitrogen       0\n",
       "Potassium      0\n",
       "Phosphorous    0\n",
       "Fertilizer     0\n",
       "dtype: int64"
      ]
     },
     "execution_count": 9,
     "metadata": {},
     "output_type": "execute_result"
    }
   ],
   "source": [
    "#checking for null values\n",
    "data.isna().sum()"
   ]
  },
  {
   "cell_type": "code",
   "execution_count": 11,
   "id": "62b4209b-4c13-4fd7-9705-90e478d3cae5",
   "metadata": {},
   "outputs": [
    {
     "data": {
      "text/plain": [
       "array(['Urea', 'TSP', 'Superphosphate', 'Potassium sulfate.',\n",
       "       'Potassium chloride', 'DAP', '28-28', '20-20', '17-17-17',\n",
       "       '15-15-15', '14-35-14', '14-14-14', '10-26-26', '10-10-10'],\n",
       "      dtype=object)"
      ]
     },
     "execution_count": 11,
     "metadata": {},
     "output_type": "execute_result"
    }
   ],
   "source": [
    "data['Fertilizer'].unique()"
   ]
  },
  {
   "cell_type": "code",
   "execution_count": 13,
   "id": "d4a658fb-9799-44db-bc88-165d37102906",
   "metadata": {},
   "outputs": [
    {
     "data": {
      "text/plain": [
       "array(['rice', 'Wheat', 'Tobacco', 'Sugarcane', 'Pulses', 'pomegranate',\n",
       "       'Paddy', 'Oil seeds', 'Millets', 'Maize', 'Ground Nuts', 'Cotton',\n",
       "       'coffee', 'watermelon', 'Barley', 'kidneybeans', 'orange'],\n",
       "      dtype=object)"
      ]
     },
     "execution_count": 13,
     "metadata": {},
     "output_type": "execute_result"
    }
   ],
   "source": [
    "data['Crop_Type'].unique()"
   ]
  },
  {
   "cell_type": "code",
   "execution_count": 14,
   "id": "37c90f70-f079-4255-9039-9ee5b978491c",
   "metadata": {},
   "outputs": [
    {
     "data": {
      "text/html": [
       "<div>\n",
       "<style scoped>\n",
       "    .dataframe tbody tr th:only-of-type {\n",
       "        vertical-align: middle;\n",
       "    }\n",
       "\n",
       "    .dataframe tbody tr th {\n",
       "        vertical-align: top;\n",
       "    }\n",
       "\n",
       "    .dataframe thead th {\n",
       "        text-align: right;\n",
       "    }\n",
       "</style>\n",
       "<table border=\"1\" class=\"dataframe\">\n",
       "  <thead>\n",
       "    <tr style=\"text-align: right;\">\n",
       "      <th></th>\n",
       "      <th>Temparature</th>\n",
       "      <th>Humidity</th>\n",
       "      <th>Moisture</th>\n",
       "      <th>Soil_Type</th>\n",
       "      <th>Crop_Type</th>\n",
       "      <th>Nitrogen</th>\n",
       "      <th>Potassium</th>\n",
       "      <th>Phosphorous</th>\n",
       "      <th>Fertilizer</th>\n",
       "    </tr>\n",
       "  </thead>\n",
       "  <tbody>\n",
       "    <tr>\n",
       "      <th>count</th>\n",
       "      <td>552.000000</td>\n",
       "      <td>552.000000</td>\n",
       "      <td>552.000000</td>\n",
       "      <td>552</td>\n",
       "      <td>552</td>\n",
       "      <td>552.000000</td>\n",
       "      <td>552.000000</td>\n",
       "      <td>552.000000</td>\n",
       "      <td>552</td>\n",
       "    </tr>\n",
       "    <tr>\n",
       "      <th>unique</th>\n",
       "      <td>NaN</td>\n",
       "      <td>NaN</td>\n",
       "      <td>NaN</td>\n",
       "      <td>5</td>\n",
       "      <td>17</td>\n",
       "      <td>NaN</td>\n",
       "      <td>NaN</td>\n",
       "      <td>NaN</td>\n",
       "      <td>14</td>\n",
       "    </tr>\n",
       "    <tr>\n",
       "      <th>top</th>\n",
       "      <td>NaN</td>\n",
       "      <td>NaN</td>\n",
       "      <td>NaN</td>\n",
       "      <td>Loamy</td>\n",
       "      <td>Cotton</td>\n",
       "      <td>NaN</td>\n",
       "      <td>NaN</td>\n",
       "      <td>NaN</td>\n",
       "      <td>Urea</td>\n",
       "    </tr>\n",
       "    <tr>\n",
       "      <th>freq</th>\n",
       "      <td>NaN</td>\n",
       "      <td>NaN</td>\n",
       "      <td>NaN</td>\n",
       "      <td>192</td>\n",
       "      <td>64</td>\n",
       "      <td>NaN</td>\n",
       "      <td>NaN</td>\n",
       "      <td>NaN</td>\n",
       "      <td>108</td>\n",
       "    </tr>\n",
       "    <tr>\n",
       "      <th>mean</th>\n",
       "      <td>28.630435</td>\n",
       "      <td>64.557971</td>\n",
       "      <td>42.840580</td>\n",
       "      <td>NaN</td>\n",
       "      <td>NaN</td>\n",
       "      <td>28.521739</td>\n",
       "      <td>10.144928</td>\n",
       "      <td>21.115942</td>\n",
       "      <td>NaN</td>\n",
       "    </tr>\n",
       "    <tr>\n",
       "      <th>std</th>\n",
       "      <td>5.088082</td>\n",
       "      <td>11.880236</td>\n",
       "      <td>11.507275</td>\n",
       "      <td>NaN</td>\n",
       "      <td>NaN</td>\n",
       "      <td>29.121989</td>\n",
       "      <td>13.456956</td>\n",
       "      <td>14.920514</td>\n",
       "      <td>NaN</td>\n",
       "    </tr>\n",
       "    <tr>\n",
       "      <th>min</th>\n",
       "      <td>0.000000</td>\n",
       "      <td>50.000000</td>\n",
       "      <td>25.000000</td>\n",
       "      <td>NaN</td>\n",
       "      <td>NaN</td>\n",
       "      <td>0.000000</td>\n",
       "      <td>0.000000</td>\n",
       "      <td>0.000000</td>\n",
       "      <td>NaN</td>\n",
       "    </tr>\n",
       "    <tr>\n",
       "      <th>25%</th>\n",
       "      <td>26.000000</td>\n",
       "      <td>54.000000</td>\n",
       "      <td>33.000000</td>\n",
       "      <td>NaN</td>\n",
       "      <td>NaN</td>\n",
       "      <td>10.000000</td>\n",
       "      <td>0.000000</td>\n",
       "      <td>8.000000</td>\n",
       "      <td>NaN</td>\n",
       "    </tr>\n",
       "    <tr>\n",
       "      <th>50%</th>\n",
       "      <td>29.000000</td>\n",
       "      <td>62.000000</td>\n",
       "      <td>41.000000</td>\n",
       "      <td>NaN</td>\n",
       "      <td>NaN</td>\n",
       "      <td>15.000000</td>\n",
       "      <td>0.000000</td>\n",
       "      <td>20.000000</td>\n",
       "      <td>NaN</td>\n",
       "    </tr>\n",
       "    <tr>\n",
       "      <th>75%</th>\n",
       "      <td>32.000000</td>\n",
       "      <td>68.000000</td>\n",
       "      <td>51.000000</td>\n",
       "      <td>NaN</td>\n",
       "      <td>NaN</td>\n",
       "      <td>37.000000</td>\n",
       "      <td>18.000000</td>\n",
       "      <td>36.000000</td>\n",
       "      <td>NaN</td>\n",
       "    </tr>\n",
       "    <tr>\n",
       "      <th>max</th>\n",
       "      <td>38.000000</td>\n",
       "      <td>95.000000</td>\n",
       "      <td>65.000000</td>\n",
       "      <td>NaN</td>\n",
       "      <td>NaN</td>\n",
       "      <td>126.000000</td>\n",
       "      <td>59.000000</td>\n",
       "      <td>54.000000</td>\n",
       "      <td>NaN</td>\n",
       "    </tr>\n",
       "  </tbody>\n",
       "</table>\n",
       "</div>"
      ],
      "text/plain": [
       "        Temparature    Humidity    Moisture Soil_Type Crop_Type    Nitrogen  \\\n",
       "count    552.000000  552.000000  552.000000       552       552  552.000000   \n",
       "unique          NaN         NaN         NaN         5        17         NaN   \n",
       "top             NaN         NaN         NaN     Loamy    Cotton         NaN   \n",
       "freq            NaN         NaN         NaN       192        64         NaN   \n",
       "mean      28.630435   64.557971   42.840580       NaN       NaN   28.521739   \n",
       "std        5.088082   11.880236   11.507275       NaN       NaN   29.121989   \n",
       "min        0.000000   50.000000   25.000000       NaN       NaN    0.000000   \n",
       "25%       26.000000   54.000000   33.000000       NaN       NaN   10.000000   \n",
       "50%       29.000000   62.000000   41.000000       NaN       NaN   15.000000   \n",
       "75%       32.000000   68.000000   51.000000       NaN       NaN   37.000000   \n",
       "max       38.000000   95.000000   65.000000       NaN       NaN  126.000000   \n",
       "\n",
       "         Potassium  Phosphorous Fertilizer  \n",
       "count   552.000000   552.000000        552  \n",
       "unique         NaN          NaN         14  \n",
       "top            NaN          NaN       Urea  \n",
       "freq           NaN          NaN        108  \n",
       "mean     10.144928    21.115942        NaN  \n",
       "std      13.456956    14.920514        NaN  \n",
       "min       0.000000     0.000000        NaN  \n",
       "25%       0.000000     8.000000        NaN  \n",
       "50%       0.000000    20.000000        NaN  \n",
       "75%      18.000000    36.000000        NaN  \n",
       "max      59.000000    54.000000        NaN  "
      ]
     },
     "execution_count": 14,
     "metadata": {},
     "output_type": "execute_result"
    }
   ],
   "source": [
    "#statistical parameters\n",
    "data.describe(include='all')"
   ]
  },
  {
   "cell_type": "code",
   "execution_count": 17,
   "id": "cee34d27-3802-4e9f-b502-f20b2355e789",
   "metadata": {},
   "outputs": [
    {
     "data": {
      "image/png": "[encoded data removed]",
      "text/plain": [
       "<Figure size 1000x600 with 2 Axes>"
      ]
     },
     "metadata": {},
     "output_type": "display_data"
    }
   ],
   "source": [
    "import seaborn as sns\n",
    "import matplotlib.pyplot as plt\n",
    "\n",
    "# ✅ Select only numerical columns\n",
    "numeric_data = data.select_dtypes(include=['float64', 'int64'])\n",
    "\n",
    "# ✅ Heatmap for Correlation Analysis\n",
    "plt.figure(figsize=(10, 6))  # Optional: Set figure size\n",
    "sns.heatmap(numeric_data.corr(), annot=True, cmap=\"coolwarm\")\n",
    "\n",
    "plt.title(\"Correlation Heatmap\")\n",
    "plt.show()\n"
   ]
  },
  {
   "cell_type": "code",
   "execution_count": 19,
   "id": "37446eab-10a0-4a9f-8ac0-e518966b81c8",
   "metadata": {},
   "outputs": [
    {
     "data": {
      "image/png": "[encoded data removed]",
      "text/plain": [
       "<Figure size 640x480 with 2 Axes>"
      ]
     },
     "metadata": {},
     "output_type": "display_data"
    }
   ],
   "source": [
    "from sklearn.preprocessing import LabelEncoder\n",
    "\n",
    "# ✅ Encode categorical columns\n",
    "data_encoded = data.copy()\n",
    "for col in data.select_dtypes(include=['object']).columns:\n",
    "    data_encoded[col] = LabelEncoder().fit_transform(data[col])\n",
    "\n",
    "# ✅ Now calculate correlation & plot heatmap\n",
    "sns.heatmap(data_encoded.corr(), annot=True, cmap=\"coolwarm\")\n",
    "plt.show()\n"
   ]
  },
  {
   "cell_type": "code",
   "execution_count": 21,
   "id": "a4c709ae-369c-417e-b4e5-65785d8e027d",
   "metadata": {},
   "outputs": [
    {
     "data": {
      "text/html": [
       "<div>\n",
       "<style scoped>\n",
       "    .dataframe tbody tr th:only-of-type {\n",
       "        vertical-align: middle;\n",
       "    }\n",
       "\n",
       "    .dataframe tbody tr th {\n",
       "        vertical-align: top;\n",
       "    }\n",
       "\n",
       "    .dataframe thead th {\n",
       "        text-align: right;\n",
       "    }\n",
       "</style>\n",
       "<table border=\"1\" class=\"dataframe\">\n",
       "  <thead>\n",
       "    <tr style=\"text-align: right;\">\n",
       "      <th></th>\n",
       "      <th>Encoded</th>\n",
       "    </tr>\n",
       "    <tr>\n",
       "      <th>Original</th>\n",
       "      <th></th>\n",
       "    </tr>\n",
       "  </thead>\n",
       "  <tbody>\n",
       "    <tr>\n",
       "      <th>Black</th>\n",
       "      <td>0</td>\n",
       "    </tr>\n",
       "    <tr>\n",
       "      <th>Clayey</th>\n",
       "      <td>1</td>\n",
       "    </tr>\n",
       "    <tr>\n",
       "      <th>Loamy</th>\n",
       "      <td>2</td>\n",
       "    </tr>\n",
       "    <tr>\n",
       "      <th>Red</th>\n",
       "      <td>3</td>\n",
       "    </tr>\n",
       "    <tr>\n",
       "      <th>Sandy</th>\n",
       "      <td>4</td>\n",
       "    </tr>\n",
       "  </tbody>\n",
       "</table>\n",
       "</div>"
      ],
      "text/plain": [
       "          Encoded\n",
       "Original         \n",
       "Black           0\n",
       "Clayey          1\n",
       "Loamy           2\n",
       "Red             3\n",
       "Sandy           4"
      ]
     },
     "execution_count": 21,
     "metadata": {},
     "output_type": "execute_result"
    }
   ],
   "source": [
    "import pandas as pd\n",
    "from sklearn.preprocessing import LabelEncoder\n",
    "\n",
    "# Sample DataFrame (replace with your actual dataset)\n",
    "data = pd.DataFrame({'Soil_Type': ['Black', 'Clayey', 'Loamy', 'Red', 'Sandy']})\n",
    "\n",
    "# Encoding Soil Type variable\n",
    "encode_soil = LabelEncoder()\n",
    "data['Encoded'] = encode_soil.fit_transform(data['Soil_Type'])\n",
    "\n",
    "# Creating DataFrame with actual names and encoded values\n",
    "Soil_Type = pd.DataFrame({\n",
    "    'Original': encode_soil.classes_,  # Using actual soil type names\n",
    "    'Encoded': encode_soil.transform(encode_soil.classes_)  # Ensuring correct encoded values\n",
    "})\n",
    "\n",
    "# Setting 'Original' as index\n",
    "Soil_Type = Soil_Type.set_index('Original')\n",
    "\n",
    "# Display the DataFrame\n",
    "Soil_Type"
   ]
  },
  {
   "cell_type": "code",
   "execution_count": 23,
   "id": "5be0c643-3461-4816-97c1-96e76cf40baa",
   "metadata": {},
   "outputs": [
    {
     "data": {
      "text/html": [
       "<div>\n",
       "<style scoped>\n",
       "    .dataframe tbody tr th:only-of-type {\n",
       "        vertical-align: middle;\n",
       "    }\n",
       "\n",
       "    .dataframe tbody tr th {\n",
       "        vertical-align: top;\n",
       "    }\n",
       "\n",
       "    .dataframe thead th {\n",
       "        text-align: right;\n",
       "    }\n",
       "</style>\n",
       "<table border=\"1\" class=\"dataframe\">\n",
       "  <thead>\n",
       "    <tr style=\"text-align: right;\">\n",
       "      <th></th>\n",
       "      <th>Encoded</th>\n",
       "    </tr>\n",
       "    <tr>\n",
       "      <th>Original</th>\n",
       "      <th></th>\n",
       "    </tr>\n",
       "  </thead>\n",
       "  <tbody>\n",
       "    <tr>\n",
       "      <th>Barley</th>\n",
       "      <td>0</td>\n",
       "    </tr>\n",
       "    <tr>\n",
       "      <th>Maize</th>\n",
       "      <td>1</td>\n",
       "    </tr>\n",
       "    <tr>\n",
       "      <th>Rice</th>\n",
       "      <td>2</td>\n",
       "    </tr>\n",
       "    <tr>\n",
       "      <th>Soybean</th>\n",
       "      <td>3</td>\n",
       "    </tr>\n",
       "    <tr>\n",
       "      <th>Wheat</th>\n",
       "      <td>4</td>\n",
       "    </tr>\n",
       "  </tbody>\n",
       "</table>\n",
       "</div>"
      ],
      "text/plain": [
       "          Encoded\n",
       "Original         \n",
       "Barley          0\n",
       "Maize           1\n",
       "Rice            2\n",
       "Soybean         3\n",
       "Wheat           4"
      ]
     },
     "execution_count": 23,
     "metadata": {},
     "output_type": "execute_result"
    }
   ],
   "source": [
    "import pandas as pd\n",
    "from sklearn.preprocessing import LabelEncoder\n",
    "\n",
    "# Sample DataFrame (Replace with your actual dataset)\n",
    "data = pd.DataFrame({'Crop_Type': ['Wheat', 'Rice', 'Maize', 'Barley', 'Soybean']})\n",
    "\n",
    "# Encoding Crop Type variable\n",
    "encode_crop = LabelEncoder()\n",
    "data['Encoded'] = encode_crop.fit_transform(data['Crop_Type'])\n",
    "\n",
    "# Creating DataFrame with actual crop names and encoded values\n",
    "Crop_Type = pd.DataFrame({\n",
    "    'Original': encode_crop.classes_,  # Using actual crop names\n",
    "    'Encoded': encode_crop.transform(encode_crop.classes_)  # Ensuring correct encoded values\n",
    "})\n",
    "\n",
    "# Setting 'Original' as index\n",
    "Crop_Type = Crop_Type.set_index('Original')\n",
    "\n",
    "# Display the DataFrame\n",
    "Crop_Type\n"
   ]
  },
  {
   "cell_type": "code",
   "execution_count": 35,
   "id": "47f75d63-d6d9-4e72-8bf1-b9434e5bc137",
   "metadata": {},
   "outputs": [
    {
     "data": {
      "text/html": [
       "<div>\n",
       "<style scoped>\n",
       "    .dataframe tbody tr th:only-of-type {\n",
       "        vertical-align: middle;\n",
       "    }\n",
       "\n",
       "    .dataframe tbody tr th {\n",
       "        vertical-align: top;\n",
       "    }\n",
       "\n",
       "    .dataframe thead th {\n",
       "        text-align: right;\n",
       "    }\n",
       "</style>\n",
       "<table border=\"1\" class=\"dataframe\">\n",
       "  <thead>\n",
       "    <tr style=\"text-align: right;\">\n",
       "      <th></th>\n",
       "      <th>Encoded</th>\n",
       "    </tr>\n",
       "    <tr>\n",
       "      <th>Original</th>\n",
       "      <th></th>\n",
       "    </tr>\n",
       "  </thead>\n",
       "  <tbody>\n",
       "    <tr>\n",
       "      <th>10-10-10</th>\n",
       "      <td>0</td>\n",
       "    </tr>\n",
       "    <tr>\n",
       "      <th>10-26-26</th>\n",
       "      <td>1</td>\n",
       "    </tr>\n",
       "    <tr>\n",
       "      <th>14-14-14</th>\n",
       "      <td>2</td>\n",
       "    </tr>\n",
       "    <tr>\n",
       "      <th>14-35-14</th>\n",
       "      <td>3</td>\n",
       "    </tr>\n",
       "    <tr>\n",
       "      <th>15-15-15</th>\n",
       "      <td>4</td>\n",
       "    </tr>\n",
       "    <tr>\n",
       "      <th>17-17-17</th>\n",
       "      <td>5</td>\n",
       "    </tr>\n",
       "    <tr>\n",
       "      <th>20-20</th>\n",
       "      <td>6</td>\n",
       "    </tr>\n",
       "    <tr>\n",
       "      <th>28-28</th>\n",
       "      <td>7</td>\n",
       "    </tr>\n",
       "    <tr>\n",
       "      <th>DAP</th>\n",
       "      <td>8</td>\n",
       "    </tr>\n",
       "    <tr>\n",
       "      <th>Potassium chloride</th>\n",
       "      <td>9</td>\n",
       "    </tr>\n",
       "    <tr>\n",
       "      <th>Potassium sulfate</th>\n",
       "      <td>10</td>\n",
       "    </tr>\n",
       "    <tr>\n",
       "      <th>Superphosphate</th>\n",
       "      <td>11</td>\n",
       "    </tr>\n",
       "    <tr>\n",
       "      <th>TSP</th>\n",
       "      <td>12</td>\n",
       "    </tr>\n",
       "    <tr>\n",
       "      <th>Urea</th>\n",
       "      <td>13</td>\n",
       "    </tr>\n",
       "  </tbody>\n",
       "</table>\n",
       "</div>"
      ],
      "text/plain": [
       "                    Encoded\n",
       "Original                   \n",
       "10-10-10                  0\n",
       "10-26-26                  1\n",
       "14-14-14                  2\n",
       "14-35-14                  3\n",
       "15-15-15                  4\n",
       "17-17-17                  5\n",
       "20-20                     6\n",
       "28-28                     7\n",
       "DAP                       8\n",
       "Potassium chloride        9\n",
       "Potassium sulfate        10\n",
       "Superphosphate           11\n",
       "TSP                      12\n",
       "Urea                     13"
      ]
     },
     "execution_count": 35,
     "metadata": {},
     "output_type": "execute_result"
    }
   ],
   "source": [
    "import pandas as pd\n",
    "from sklearn.preprocessing import LabelEncoder\n",
    "\n",
    "# Sample DataFrame with Fertilizers\n",
    "data = pd.DataFrame({'Fertilizer': [\n",
    "    \"10-10-10\", \"10-26-26\", \"14-14-14\", \"14-35-14\", \"15-15-15\", \n",
    "    \"17-17-17\", \"20-20\", \"28-28\", \"DAP\", \"Potassium chloride\", \n",
    "    \"Potassium sulfate\", \"Superphosphate\", \"TSP\", \"Urea\"\n",
    "]})\n",
    "\n",
    "# Encoding Fertilizer variable\n",
    "encode_fertilizer = LabelEncoder()\n",
    "data['Encoded'] = encode_fertilizer.fit_transform(data['Fertilizer'])\n",
    "\n",
    "# Creating DataFrame with actual Fertilizer names and encoded values\n",
    "Fertilizer = pd.DataFrame({\n",
    "    'Original': encode_fertilizer.classes_,  # Using actual fertilizer names\n",
    "    'Encoded': encode_fertilizer.transform(encode_fertilizer.classes_)  # Ensuring correct encoded values\n",
    "})\n",
    "\n",
    "# Setting 'Original' as index\n",
    "Fertilizer = Fertilizer.set_index('Original')\n",
    "\n",
    "# Display the DataFrame\n",
    "Fertilizer\n"
   ]
  },
  {
   "cell_type": "code",
   "execution_count": 36,
   "id": "74167ef8-ceee-446b-9078-b2088ea33fa1",
   "metadata": {},
   "outputs": [
    {
     "name": "stdout",
     "output_type": "stream",
     "text": [
      "   Temparature  Humidity  Moisture Soil_Type Crop_Type  Nitrogen  Potassium  \\\n",
      "0           20        83        26    Clayey      rice        90         49   \n",
      "1           25        84        32     Loamy      rice        66         59   \n",
      "2           33        64        50     Loamy     Wheat        41          0   \n",
      "3           34        65        54     Loamy     Wheat        38          0   \n",
      "4           38        72        51     Loamy     Wheat        39          0   \n",
      "\n",
      "   Phosphorous Fertilizer  \n",
      "0           36       Urea  \n",
      "1           36       Urea  \n",
      "2            0       Urea  \n",
      "3            0       Urea  \n",
      "4            0       Urea  \n"
     ]
    }
   ],
   "source": [
    "# Load full dataset (if you have it)\n",
    "data = pd.read_csv('f2.csv')\n",
    "\n",
    "# Check if all required features are present\n",
    "print(data.head())"
   ]
  },
  {
   "cell_type": "code",
   "execution_count": 49,
   "id": "252c96f1-66a5-4fb3-8306-0c6b37ca211a",
   "metadata": {},
   "outputs": [
    {
     "name": "stdout",
     "output_type": "stream",
     "text": [
      "Cross-validation score of Random Forest: 1.0000 ± 0.0000\n",
      "Cross-validation score of Logistic Regression: 0.8767 ± 0.0377\n",
      "Cross-validation score of SVM: 1.0000 ± 0.0000\n",
      "Cross-validation score of Naive Bayes: 0.9077 ± 0.0384\n",
      "Cross-validation score of Decision Tree: 0.9040 ± 0.0324\n"
     ]
    }
   ],
   "source": [
    "from sklearn.model_selection import cross_val_score\n",
    "from sklearn.preprocessing import LabelEncoder\n",
    "import pandas as pd\n",
    "\n",
    "# Step 1: Encode categorical columns using LabelEncoder\n",
    "data_encoded = data.copy()\n",
    "categorical_cols = [col for col in data.columns if data[col].dtype == 'object']\n",
    "\n",
    "for col in categorical_cols:\n",
    "    le = LabelEncoder()\n",
    "    data_encoded[col] = le.fit_transform(data[col])  # Convert categories to numbers\n",
    "\n",
    "# Step 2: One-Hot Encoding (if needed)\n",
    "X = pd.get_dummies(data_encoded.drop(columns=['Fertilizer']), drop_first=True)  # Features\n",
    "y = data_encoded['Fertilizer']  # Target variable\n",
    "\n",
    "# Step 3: Define models\n",
    "models_dict = {\n",
    "    \"Random Forest\": RandomForestClassifier(n_estimators=100, random_state=2),\n",
    "    \"Logistic Regression\": LogisticRegression(max_iter=1000, random_state=2),\n",
    "    \"SVM\": SVC(kernel='linear', random_state=2),\n",
    "    \"Naive Bayes\": GaussianNB(),\n",
    "    \"Decision Tree\": DecisionTreeClassifier(criterion=\"entropy\", random_state=2, max_depth=5)\n",
    "}\n",
    "\n",
    "# Step 4: Perform Cross-Validation for Each Model\n",
    "for model_name, clf in models_dict.items():\n",
    "    scores = cross_val_score(clf, X, y, cv=5)  # 5-Fold Cross Validation\n",
    "    print(f\"Cross-validation score of {model_name}: {scores.mean():.4f} ± {scores.std():.4f}\")\n"
   ]
  },
  {
   "cell_type": "code",
   "execution_count": 38,
   "id": "e5ffaeaf-1f95-4ace-94c1-736df0dfe6be",
   "metadata": {},
   "outputs": [
    {
     "name": "stdout",
     "output_type": "stream",
     "text": [
      "<class 'pandas.core.frame.DataFrame'>\n",
      "Index: 441 entries, 213 to 37\n",
      "Data columns (total 8 columns):\n",
      " #   Column       Non-Null Count  Dtype \n",
      "---  ------       --------------  ----- \n",
      " 0   Temparature  441 non-null    int64 \n",
      " 1   Humidity     441 non-null    int64 \n",
      " 2   Moisture     441 non-null    int64 \n",
      " 3   Soil_Type    441 non-null    object\n",
      " 4   Crop_Type    441 non-null    object\n",
      " 5   Nitrogen     441 non-null    int64 \n",
      " 6   Potassium    441 non-null    int64 \n",
      " 7   Phosphorous  441 non-null    int64 \n",
      "dtypes: int64(6), object(2)\n",
      "memory usage: 31.0+ KB\n"
     ]
    }
   ],
   "source": [
    "x_train.info()"
   ]
  },
  {
   "cell_type": "code",
   "execution_count": 48,
   "id": "e8caf33d-5cff-40f6-b7f8-80f69065657a",
   "metadata": {},
   "outputs": [
    {
     "name": "stdout",
     "output_type": "stream",
     "text": [
      "Cross-validation score of Random Forest: 1.0000 ± 0.0000\n",
      "Cross-validation score of Logistic Regression: 0.8767 ± 0.0377\n",
      "Cross-validation score of SVM: 1.0000 ± 0.0000\n",
      "Cross-validation score of Naive Bayes: 0.9077 ± 0.0384\n",
      "Cross-validation score of Decision Tree: 0.9040 ± 0.0324\n"
     ]
    }
   ],
   "source": [
    "from sklearn.model_selection import cross_val_score\n",
    "from sklearn.preprocessing import LabelEncoder\n",
    "import pandas as pd\n",
    "\n",
    "# Step 1: Encode categorical columns using LabelEncoder\n",
    "data_encoded = data.copy()\n",
    "categorical_cols = [col for col in data.columns if data[col].dtype == 'object']\n",
    "\n",
    "for col in categorical_cols:\n",
    "    le = LabelEncoder()\n",
    "    data_encoded[col] = le.fit_transform(data[col])  # Convert categories to numbers\n",
    "\n",
    "# Step 2: One-Hot Encoding (if needed)\n",
    "X = pd.get_dummies(data_encoded.drop(columns=['Fertilizer']), drop_first=True)  # Features\n",
    "y = data_encoded['Fertilizer']  # Target variable\n",
    "\n",
    "# Step 3: Define models\n",
    "models_dict = {\n",
    "    \"Random Forest\": RandomForestClassifier(n_estimators=100, random_state=2),\n",
    "    \"Logistic Regression\": LogisticRegression(max_iter=1000, random_state=2),\n",
    "    \"SVM\": SVC(kernel='linear', random_state=2),\n",
    "    \"Naive Bayes\": GaussianNB(),\n",
    "    \"Decision Tree\": DecisionTreeClassifier(criterion=\"entropy\", random_state=2, max_depth=5)\n",
    "}\n",
    "\n",
    "# Step 4: Perform Cross-Validation for Each Model\n",
    "for model_name, clf in models_dict.items():\n",
    "    scores = cross_val_score(clf, X, y, cv=5)  # 5-Fold Cross Validation\n",
    "    print(f\"Cross-validation score of {model_name}: {scores.mean():.4f} ± {scores.std():.4f}\")\n"
   ]
  },
  {
   "cell_type": "code",
   "execution_count": 40,
   "id": "cb022142-f201-4794-a27a-0aaa37c2f506",
   "metadata": {},
   "outputs": [],
   "source": [
    "acc = [] # TEST\n",
    "model = []\n",
    "acc1=[] # TRIAN"
   ]
  },
  {
   "cell_type": "code",
   "execution_count": 41,
   "id": "ed2ffdd6-ba8e-49e1-8fbd-51693bd94ac6",
   "metadata": {},
   "outputs": [
    {
     "name": "stdout",
     "output_type": "stream",
     "text": [
      "Temparature     int64\n",
      "Humidity        int64\n",
      "Moisture        int64\n",
      "Soil_Type      object\n",
      "Crop_Type      object\n",
      "Nitrogen        int64\n",
      "Potassium       int64\n",
      "Phosphorous     int64\n",
      "Fertilizer     object\n",
      "dtype: object\n"
     ]
    }
   ],
   "source": [
    "print(data.dtypes)"
   ]
  },
  {
   "cell_type": "code",
   "execution_count": 43,
   "id": "950f92c8-16bd-44e1-955e-f3b710c8a2fd",
   "metadata": {},
   "outputs": [
    {
     "name": "stdout",
     "output_type": "stream",
     "text": [
      "Encoding completed successfully!\n"
     ]
    }
   ],
   "source": [
    "from sklearn.model_selection import train_test_split\n",
    "from sklearn.preprocessing import LabelEncoder\n",
    "\n",
    "# Split the data first\n",
    "X = data.drop(columns=['Fertilizer'])  # Features\n",
    "y = data['Fertilizer']  # Target\n",
    "\n",
    "x_train, x_test, y_train, y_test = train_test_split(X, y, test_size=0.2, random_state=1)\n",
    "\n",
    "# Apply Label Encoding only on categorical columns\n",
    "for col in x_train.columns:\n",
    "    if x_train[col].dtype == 'object':  # Check if column is categorical\n",
    "        le = LabelEncoder()\n",
    "        x_train[col] = le.fit_transform(x_train[col])  # Fit & transform on training data\n",
    "        x_test[col] = le.transform(x_test[col])  # Transform test data using same encoder\n",
    "\n",
    "# Now x_train and x_test are fully numeric and ready for ML models\n",
    "print(\"Encoding completed successfully!\")\n",
    "\n"
   ]
  },
  {
   "cell_type": "code",
   "execution_count": 44,
   "id": "10d06434-8882-47b3-879c-998a68c669a7",
   "metadata": {},
   "outputs": [
    {
     "name": "stdout",
     "output_type": "stream",
     "text": [
      "Decision Tree Accuracy: Train = 93.42%, Test = 90.09%\n",
      "Gaussian Naive Bayes Accuracy: Train = 91.38%, Test = 94.59%\n",
      "SVM Accuracy: Train = 100.00%, Test = 100.00%\n",
      "Logistic Regression Accuracy: Train = 92.97%, Test = 84.68%\n",
      "Random Forest Accuracy: Train = 100.00%, Test = 100.00%\n"
     ]
    }
   ],
   "source": [
    "from sklearn.tree import DecisionTreeClassifier\n",
    "from sklearn.naive_bayes import GaussianNB\n",
    "from sklearn.svm import SVC\n",
    "from sklearn.linear_model import LogisticRegression\n",
    "from sklearn.ensemble import RandomForestClassifier\n",
    "from sklearn import metrics\n",
    "\n",
    "# Define all models in a dictionary\n",
    "models_dict = {\n",
    "    \"Decision Tree\": DecisionTreeClassifier(criterion=\"entropy\", random_state=2, max_depth=5),\n",
    "    \"Gaussian Naive Bayes\": GaussianNB(),\n",
    "    \"SVM\": SVC(kernel='linear', random_state=2),\n",
    "    \"Logistic Regression\": LogisticRegression(max_iter=1000, random_state=2),\n",
    "    \"Random Forest\": RandomForestClassifier(n_estimators=100, random_state=2)\n",
    "}\n",
    "\n",
    "# Lists to store results\n",
    "acc = []  # Test accuracy\n",
    "acc1 = []  # Train accuracy\n",
    "model = []  # Trained models\n",
    "\n",
    "# Train & Evaluate Each Model\n",
    "for model_name, clf in models_dict.items():\n",
    "    clf.fit(x_train, y_train)  # Train model\n",
    "    model.append(clf)  # Store trained model\n",
    "    \n",
    "    # Predictions\n",
    "    y_pred_train = clf.predict(x_train)\n",
    "    y_pred_test = clf.predict(x_test)\n",
    "\n",
    "    # Accuracy Calculation\n",
    "    train_accuracy = metrics.accuracy_score(y_train, y_pred_train)\n",
    "    test_accuracy = metrics.accuracy_score(y_test, y_pred_test)\n",
    "\n",
    "    acc1.append(train_accuracy)\n",
    "    acc.append(test_accuracy)\n",
    "\n",
    "    print(f\"{model_name} Accuracy: Train = {train_accuracy * 100:.2f}%, Test = {test_accuracy * 100:.2f}%\")\n"
   ]
  },
  {
   "cell_type": "code",
   "execution_count": 51,
   "id": "f53369c5-a091-4c0d-9e0d-431781f35749",
   "metadata": {},
   "outputs": [
    {
     "name": "stdout",
     "output_type": "stream",
     "text": [
      "Model saved successfully as classify.pkl!\n"
     ]
    }
   ],
   "source": [
    "import pickle\n",
    "\n",
    "# Select the best model (Example: Random Forest)\n",
    "best_model = models_dict[\"Random Forest\"]  # Use the trained Random Forest model\n",
    "\n",
    "# Save the trained model with a new name\n",
    "with open('classify.pkl', 'wb') as pickle_out:\n",
    "    pickle.dump(best_model, pickle_out)\n",
    "\n",
    "print(\"Model saved successfully as classify.pkl!\")\n",
    "\n"
   ]
  },
  {
   "cell_type": "code",
   "execution_count": 55,
   "id": "7052c81f-fc23-4180-ab92-b07670999383",
   "metadata": {},
   "outputs": [],
   "source": [
    "from sklearn.preprocessing import LabelEncoder\n",
    "\n",
    "# Copy original dataset\n",
    "data_encoded = data.copy()\n",
    "\n",
    "# Identify categorical columns\n",
    "categorical_cols = ['Soil_Type', 'Crop_Type']  # Add any other categorical columns here\n",
    "\n",
    "# Apply Label Encoding\n",
    "le = LabelEncoder()\n",
    "for col in categorical_cols:\n",
    "    data_encoded[col] = le.fit_transform(data_encoded[col])  \n",
    "\n",
    "\n"
   ]
  },
  {
   "cell_type": "code",
   "execution_count": 56,
   "id": "96f68970-0f4d-4c06-b9b6-0063b200263a",
   "metadata": {},
   "outputs": [
    {
     "name": "stdout",
     "output_type": "stream",
     "text": [
      "✅ Model trained and saved successfully as classify.pkl!\n"
     ]
    }
   ],
   "source": [
    "from sklearn.ensemble import RandomForestClassifier\n",
    "import pickle\n",
    "\n",
    "# Define features and target (AFTER encoding categorical data)\n",
    "X = data_encoded.drop(columns=['Fertilizer'])  # Features\n",
    "y = data_encoded['Fertilizer']  # Target variable\n",
    "\n",
    "# Train the Random Forest model\n",
    "RF = RandomForestClassifier(n_estimators=100, random_state=2)\n",
    "RF.fit(X, y)  # Training the model\n",
    "\n",
    "# Save the trained model\n",
    "with open('classify.pkl', 'wb') as pickle_out:\n",
    "    pickle.dump(RF, pickle_out)\n",
    "\n",
    "print(\"✅ Model trained and saved successfully as classify.pkl!\")\n"
   ]
  },
  {
   "cell_type": "code",
   "execution_count": 58,
   "id": "a28ed03a-b833-4221-8cd5-14013ac55b4c",
   "metadata": {},
   "outputs": [
    {
     "name": "stdout",
     "output_type": "stream",
     "text": [
      "✅ Model loaded successfully! It expects 8 features.\n"
     ]
    }
   ],
   "source": [
    "import pickle\n",
    "\n",
    "# Load the trained model\n",
    "model = pickle.load(open('classify.pkl', 'rb'))\n",
    "\n",
    "# Verify if the model was trained correctly\n",
    "if hasattr(model, \"n_features_in_\"):\n",
    "    print(\"✅ Model loaded successfully! It expects\", model.n_features_in_, \"features.\")\n",
    "else:\n",
    "    print(\"⚠ Error: Model is not trained correctly.\")\n"
   ]
  },
  {
   "cell_type": "code",
   "execution_count": 59,
   "id": "5e2be639-b7a1-40bb-9856-433e93effb76",
   "metadata": {},
   "outputs": [
    {
     "name": "stdout",
     "output_type": "stream",
     "text": [
      "✅ Model + Encoders saved successfully!\n"
     ]
    }
   ],
   "source": [
    "import pickle\n",
    "from sklearn.preprocessing import LabelEncoder\n",
    "\n",
    "# Prepare label encoders\n",
    "label_encoders = {}\n",
    "for col in ['Soil_Type', 'Crop_Type']:\n",
    "    le = LabelEncoder()\n",
    "    data[col] = le.fit_transform(data[col])\n",
    "    label_encoders[col] = le\n",
    "\n",
    "# Prepare Fertilizer encoder\n",
    "fertilizer_encoder = LabelEncoder()\n",
    "data['Fertilizer'] = fertilizer_encoder.fit_transform(data['Fertilizer'])\n",
    "\n",
    "# Model Training\n",
    "X = data.drop(columns=['Fertilizer'])\n",
    "y = data['Fertilizer']\n",
    "RF = RandomForestClassifier(n_estimators=100, random_state=2)\n",
    "RF.fit(X, y)\n",
    "\n",
    "# Save model + encoders\n",
    "with open(\"fertilizer_model.pkl\", \"wb\") as f:\n",
    "    pickle.dump({\n",
    "        \"model\": RF,\n",
    "        \"fertilizer_encoder\": fertilizer_encoder,\n",
    "        \"label_encoders\": label_encoders\n",
    "    }, f)\n",
    "\n",
    "print(\"✅ Model + Encoders saved successfully!\")\n"
   ]
  },
  {
   "cell_type": "code",
   "execution_count": 60,
   "id": "b5907a7d-e0d4-4474-b9bb-60832953bc41",
   "metadata": {},
   "outputs": [
    {
     "name": "stdout",
     "output_type": "stream",
     "text": [
      "Recommended Fertilizer: 10-26-26\n"
     ]
    }
   ],
   "source": [
    "# Load the trained model\n",
    "with open(\"fertilizer_model.pkl\", \"rb\") as f:\n",
    "    data = pickle.load(f)\n",
    "\n",
    "model = data[\"model\"]\n",
    "fertilizer_encoder = data[\"fertilizer_encoder\"]\n",
    "label_encoders = data[\"label_encoders\"]\n",
    "\n",
    "# Example User Input (Modify as needed)\n",
    "user_input = {\n",
    "    \"Temparature\": 30,\n",
    "    \"Humidity\": 60,\n",
    "    \"Moisture\": 40,\n",
    "    \"Soil_Type\": \"Loamy\",\n",
    "    \"Crop_Type\": \"Wheat\",\n",
    "    \"Nitrogen\": 50,\n",
    "    \"Potassium\": 30,\n",
    "    \"Phosphorous\": 20\n",
    "}\n",
    "\n",
    "# Encode categorical features\n",
    "for col in [\"Soil_Type\", \"Crop_Type\"]:\n",
    "    user_input[col] = label_encoders[col].transform([user_input[col]])[0]\n",
    "\n",
    "# Convert input to DataFrame\n",
    "input_df = pd.DataFrame([user_input])\n",
    "\n",
    "# Predict Fertilizer\n",
    "prediction = model.predict(input_df)\n",
    "fertilizer_name = fertilizer_encoder.inverse_transform(prediction)[0]\n",
    "\n",
    "print(\"Recommended Fertilizer:\", fertilizer_name)"
   ]
  },
  {
   "cell_type": "code",
   "execution_count": 61,
   "id": "dff2b7d9-37bb-4ce2-b858-de8c79cf96e2",
   "metadata": {},
   "outputs": [
    {
     "name": "stdout",
     "output_type": "stream",
     "text": [
      "Recommended Fertilizer: Superphosphate\n"
     ]
    }
   ],
   "source": [
    "# Load the trained model\n",
    "with open(\"fertilizer_model.pkl\", \"rb\") as f:\n",
    "    data = pickle.load(f)\n",
    "\n",
    "model = data[\"model\"]\n",
    "fertilizer_encoder = data[\"fertilizer_encoder\"]\n",
    "label_encoders = data[\"label_encoders\"]\n",
    "\n",
    "# Example User Input (Modify as needed)\n",
    "user_input = {\n",
    "    \"Temparature\": 25,\n",
    "    \"Humidity\": 55,\n",
    "    \"Moisture\": 53,\n",
    "    \"Soil_Type\": \"Loamy\",\n",
    "    \"Crop_Type\": \"pomegranate\",\n",
    "    \"Nitrogen\": 0,\n",
    "    \"Potassium\": 27,\n",
    "    \"Phosphorous\": 38\n",
    "}\n",
    "\n",
    "# Encode categorical features\n",
    "for col in [\"Soil_Type\", \"Crop_Type\"]:\n",
    "    user_input[col] = label_encoders[col].transform([user_input[col]])[0]\n",
    "\n",
    "# Convert input to DataFrame\n",
    "input_df = pd.DataFrame([user_input])\n",
    "\n",
    "# Predict Fertilizer\n",
    "prediction = model.predict(input_df)\n",
    "fertilizer_name = fertilizer_encoder.inverse_transform(prediction)[0]\n",
    "\n",
    "print(\"Recommended Fertilizer:\", fertilizer_name)\n"
   ]
  },
  {
   "cell_type": "code",
   "execution_count": 62,
   "id": "efe03bfc-e940-4cbb-8113-f8e2139f9669",
   "metadata": {},
   "outputs": [],
   "source": [
    "import pickle\n",
    "\n",
    "# Load trained model and encoders\n",
    "with open(\"fertilizer_model.pkl\", \"rb\") as f:\n",
    "    data = pickle.load(f)\n",
    "\n",
    "model = data[\"model\"]\n",
    "fertilizer_encoder = data[\"fertilizer_encoder\"]\n",
    "label_encoders = data[\"label_encoders\"]\n"
   ]
  },
  {
   "cell_type": "code",
   "execution_count": 66,
   "id": "d45f3ba1-b7f3-464c-871f-e4008953eac5",
   "metadata": {},
   "outputs": [
    {
     "name": "stdout",
     "output_type": "stream",
     "text": [
      "✅ Recommended Fertilizer: DAP\n"
     ]
    }
   ],
   "source": [
    "import pandas as pd\n",
    "\n",
    "# Example User Input\n",
    "user_input = {\n",
    "    \"Temparature\": 29,\n",
    "    \"Humidity\": 52,\n",
    "    \"Moisture\": 45,\n",
    "    \"Soil_Type\": \"Loamy\",\n",
    "    \"Crop_Type\": \"Sugarcane\",\n",
    "    \"Nitrogen\": 12,\n",
    "    \"Potassium\": 0,\n",
    "    \"Phosphorous\": 36\n",
    "}\n",
    "\n",
    "# Encode categorical features\n",
    "for col in [\"Soil_Type\", \"Crop_Type\"]:\n",
    "    user_input[col] = label_encoders[col].transform([user_input[col]])[0]\n",
    "\n",
    "# Convert input to DataFrame\n",
    "input_df = pd.DataFrame([user_input])\n",
    "\n",
    "# Predict Fertilizer\n",
    "prediction = model.predict(input_df)\n",
    "fertilizer_name = fertilizer_encoder.inverse_transform(prediction)[0]\n",
    "\n",
    "print(\"✅ Recommended Fertilizer:\", fertilizer_name)\n"
   ]
  },
  {
   "cell_type": "code",
   "execution_count": null,
   "id": "bb6789ab-dd4b-40ac-964b-6308cd31de24",
   "metadata": {},
   "outputs": [],
   "source": []
  }
 ],
 "metadata": {
  "kernelspec": {
   "display_name": "Python 3 (ipykernel)",
   "language": "python",
   "name": "python3"
  },
  "language_info": {
   "codemirror_mode": {
    "name": "ipython",
    "version": 3
   },
   "file_extension": ".py",
   "mimetype": "text/x-python",
   "name": "python",
   "nbconvert_exporter": "python",
   "pygments_lexer": "ipython3",
   "version": "3.12.7"
  }
 },
 "nbformat": 4,
 "nbformat_minor": 5
}
